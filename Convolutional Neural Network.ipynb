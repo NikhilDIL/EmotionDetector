{
 "cells": [
  {
   "cell_type": "code",
   "execution_count": 1,
   "metadata": {},
   "outputs": [],
   "source": [
    "import numpy as np\n",
    "import pandas as pd\n",
    "import matplotlib.pyplot as plt\n",
    "from PIL import Image\n",
    "\n",
    "import torch\n",
    "import torch.nn as nn\n",
    "import torch.nn.functional as functional\n",
    "import torch.optim as optim\n",
    "import torch.utils.data.sampler as sampler\n",
    "\n",
    "import torchvision\n",
    "import torchvision.transforms as transforms\n",
    "import torchvision.datasets as datasets"
   ]
  },
  {
   "cell_type": "code",
   "execution_count": 2,
   "metadata": {},
   "outputs": [],
   "source": [
    "device = torch.device(\"cuda:0\" if torch.cuda.is_available() else \"cpu\")\n",
    "df = pd.read_csv(\"C:/Users/NikhilD/MachineLearning/datasets/FacialExpressionDataset/fer2013.csv\")\n",
    "labels = [\"Angry\", \"Disgust\", \"Fear\", \"Happy\", \"Sad\", \"Surprise\", \"Neutral\"]"
   ]
  },
  {
   "cell_type": "code",
   "execution_count": 3,
   "metadata": {},
   "outputs": [],
   "source": [
    "file_num = 1\n",
    "start_dir = \"C:/Users/NikhilD/MachineLearning/datasets/FacialExpressionDataset/Images/\"\n",
    "dataset_distribution = [0 for i in range(len(labels))]\n",
    "for i in range(len(df)):\n",
    "    pixels = [float(j) for j in df[\"pixels\"][i].split()]\n",
    "    t = torch.tensor(pixels).reshape((48, 48))/255\n",
    "    pil_image = transforms.ToPILImage()(t)\n",
    "    path = start_dir + df[\"Usage\"][i] + \"/\" + labels[df[\"emotion\"][i]] + \"/\"\n",
    "    pil_image.save(path+str(file_num)+\".jpg\", \"JPEG\")\n",
    "    dataset_distribution[df[\"emotion\"][i]] += 1\n",
    "    file_num += 1"
   ]
  },
  {
   "cell_type": "code",
   "execution_count": 4,
   "metadata": {},
   "outputs": [
    {
     "data": {
      "image/png": "[encoded data removed]",
      "text/plain": [
       "<Figure size 432x288 with 1 Axes>"
      ]
     },
     "metadata": {
      "needs_background": "light"
     },
     "output_type": "display_data"
    }
   ],
   "source": [
    "plt.title(\"Dataset Distribution\")\n",
    "plt.xlabel(\"Emotion\")\n",
    "plt.ylabel(\"Count\")\n",
    "plt.bar([i for i in range(len(labels))], dataset_distribution, color='green')\n",
    "plt.xticks([i for i in range(len(labels))], labels)\n",
    "plt.show()"
   ]
  },
  {
   "cell_type": "code",
   "execution_count": 68,
   "metadata": {},
   "outputs": [],
   "source": [
    "compose_transform = torchvision.transforms.Compose([torchvision.transforms.Grayscale(num_output_channels=1),\n",
    "                                                    torchvision.transforms.ToTensor()])\n",
    "\n",
    "train_set = torchvision.datasets.ImageFolder(root=start_dir+\"Training\", transform=compose_transform)\n",
    "validation_set = torchvision.datasets.ImageFolder(root=start_dir+\"PrivateTest\", transform=compose_transform)\n",
    "test_set = torchvision.datasets.ImageFolder(root=start_dir+\"PublicTest\", transform=compose_transform)\n",
    "trainloader = torch.utils.data.DataLoader(train_set, batch_size=32, shuffle=True, num_workers=2)\n",
    "validationloader = torch.utils.data.DataLoader(validation_set, batch_size=32, shuffle=False, num_workers=2)\n",
    "testloader = torch.utils.data.DataLoader(test_set, batch_size=32, shuffle=False, num_workers=2)"
   ]
  },
  {
   "cell_type": "code",
   "execution_count": 69,
   "metadata": {},
   "outputs": [],
   "source": [
    "class ConvolutionalNetwork(nn.Module):\n",
    "    def __init__(self):\n",
    "        super(ConvolutionalNetwork, self).__init__()\n",
    "        self.conv1 = nn.Conv2d(in_channels=1, out_channels=9, kernel_size=5)\n",
    "        self.conv1_bn = nn.BatchNorm2d(9)\n",
    "        self.conv2 = nn.Conv2d(in_channels=9, out_channels=18, kernel_size=5)\n",
    "        self.conv2_bn = nn.BatchNorm2d(18)\n",
    "\n",
    "        self.fc1 = nn.Linear(in_features=18*9*9, out_features=128)\n",
    "        self.fc2 = nn.Linear(in_features=128, out_features=64)\n",
    "        self.out = nn.Linear(in_features=64, out_features=7)\n",
    "        \n",
    "    def forward(self, t):\n",
    "        t = self.conv1(t)\n",
    "        t = self.conv1_bn(t)\n",
    "        t = functional.relu(t)\n",
    "        t = functional.max_pool2d(t, kernel_size=2, stride=2)\n",
    "        \n",
    "        t = self.conv2(t)\n",
    "        t = self.conv2_bn(t)\n",
    "        t = functional.relu(t)\n",
    "        t = functional.max_pool2d(t, kernel_size=2,  stride=2)\n",
    "\n",
    "        t = functional.relu(self.fc1(t.reshape(-1, 18*9*9)))\n",
    "        t = functional.relu(self.fc2(t))\n",
    "        t = self.out(t)\n",
    "        \n",
    "        return t"
   ]
  },
  {
   "cell_type": "code",
   "execution_count": 70,
   "metadata": {},
   "outputs": [],
   "source": [
    "network = ConvolutionalNetwork()\n",
    "network.cuda()\n",
    "loss_function = nn.CrossEntropyLoss()\n",
    "optimizer = optim.SGD(network.parameters(), lr=0.001, momentum=0.9)"
   ]
  },
  {
   "cell_type": "code",
   "execution_count": 71,
   "metadata": {},
   "outputs": [],
   "source": [
    "# function to evaluate the CNN\n",
    "# net = convolutional neural network\n",
    "# loader = the dataloader object for test/validation set\n",
    "# return: the accuracy of the network\n",
    "def evaluate_network(net, loader):\n",
    "    total = 0\n",
    "    correct = 0\n",
    "    with torch.no_grad():\n",
    "        for data in loader:\n",
    "            images, data_labels = data\n",
    "            images = images.to(device)\n",
    "            data_labels = data_labels.to(device)\n",
    "            outputs = net(images)\n",
    "            _, predictions = torch.max(outputs.data, 1)\n",
    "            total += data_labels.size(0)\n",
    "            correct += (predictions==data_labels).sum().item()\n",
    "    return correct/total * 100\n",
    "\n",
    "# function to train the CNN\n",
    "# net = convolutional neural network\n",
    "# tloader = dataloader object for train set\n",
    "# vloader = dataloader object for validation set\n",
    "# return: (list of accuracies, number of epochs)\n",
    "def train_network(net, tloader, vloader, optimizer, loss_function):\n",
    "    torch.set_grad_enabled(True)\n",
    "    accuracies = []\n",
    "    num_epochs = 0\n",
    "    plateau = 0\n",
    "    while(num_epochs < 30): \n",
    "        # training loop\n",
    "        for data in tloader:\n",
    "            images, data_labels = data\n",
    "            images = images.to(device)\n",
    "            data_labels = data_labels.to(device)\n",
    "            optimizer.zero_grad()\n",
    "            outputs = net(images)\n",
    "            loss = loss_function(outputs, data_labels)\n",
    "            loss.backward()\n",
    "            optimizer.step()\n",
    "        \n",
    "        accuracies.append(evaluate_network(net, vloader))\n",
    "        num_epochs += 1\n",
    "        \n",
    "        i = num_epochs - 1\n",
    "        if i >= 1 and np.abs(accuracies[i] - accuracies[i-1]) < 1:\n",
    "            plateau += 1\n",
    "        else:\n",
    "            plateau = 0\n",
    "        if plateau == 7:\n",
    "            break          \n",
    "                \n",
    "    return accuracies, num_epochs"
   ]
  },
  {
   "cell_type": "code",
   "execution_count": 72,
   "metadata": {},
   "outputs": [],
   "source": [
    "accuracies_list = []\n",
    "accuracies_list.append(evaluate_network(network, validationloader))\n",
    "accuracies, epochs = train_network(network, trainloader, validationloader, optimizer, loss_function)"
   ]
  },
  {
   "cell_type": "code",
   "execution_count": 73,
   "metadata": {},
   "outputs": [
    {
     "data": {
      "text/plain": [
       "[<matplotlib.lines.Line2D at 0x2048fdf16a0>]"
      ]
     },
     "execution_count": 73,
     "metadata": {},
     "output_type": "execute_result"
    },
    {
     "data": {
      "image/png": "[encoded data removed]",
      "text/plain": [
       "<Figure size 432x288 with 1 Axes>"
      ]
     },
     "metadata": {
      "needs_background": "light"
     },
     "output_type": "display_data"
    }
   ],
   "source": [
    "accuracies_list.extend(accuracies)\n",
    "plt.title(\"Accuracy Plot\")\n",
    "plt.xlabel(\"Epoch\")\n",
    "plt.ylabel(\"Accuracy\")\n",
    "plt.plot(accuracies_list)"
   ]
  },
  {
   "cell_type": "code",
   "execution_count": 74,
   "metadata": {},
   "outputs": [],
   "source": [
    "# helper function for SubsetRandomSampler\n",
    "def extract_indices(dataset):\n",
    "    indices = [[] for i in range(len(labels))]\n",
    "    for i, data in enumerate(dataset):\n",
    "        indices[data[1]].append(i)\n",
    "    return indices    \n",
    "\n",
    "# function to determine how well the network classifies\n",
    "# for each emotion category from the given dataset\n",
    "def extract_accuracies(network, dataset):\n",
    "    indices = extract_indices(dataset)\n",
    "    emotion_accuracies = []\n",
    "    for i in range(len(labels)):\n",
    "        loader = torch.utils.data.DataLoader(dataset, batch_size=32, shuffle=False, sampler=sampler.SubsetRandomSampler(indices[i]))\n",
    "        emotion_accuracies.append(evaluate_network(network, loader))\n",
    "    return emotion_accuracies"
   ]
  },
  {
   "cell_type": "code",
   "execution_count": 75,
   "metadata": {
    "scrolled": true
   },
   "outputs": [
    {
     "data": {
      "image/png": "[encoded data removed]",
      "text/plain": [
       "<Figure size 432x288 with 1 Axes>"
      ]
     },
     "metadata": {
      "needs_background": "light"
     },
     "output_type": "display_data"
    },
    {
     "name": "stdout",
     "output_type": "stream",
     "text": [
      "OVERALL ACCURACY:  48.56505990526609\n"
     ]
    }
   ],
   "source": [
    "test_accuracies = extract_accuracies(network, test_set)\n",
    "plt.title(\"Testset Accuracies\")\n",
    "plt.xlabel(\"Emotion\")\n",
    "plt.ylabel(\"Accuracy\")\n",
    "plt.bar([i for i in range(len(labels))], test_accuracies, color='blue')\n",
    "plt.xticks([i for i in range(len(labels))], labels)\n",
    "plt.show()\n",
    "print(\"OVERALL ACCURACY: \", evaluate_network(network, testloader))"
   ]
  },
  {
   "cell_type": "code",
   "execution_count": 79,
   "metadata": {},
   "outputs": [],
   "source": [
    "torch.save(network.state_dict(), \"C:/Users/NikhilD/MachineLearning/NetworkModels/EmotionCNNV2.pth\")"
   ]
  },
  {
   "cell_type": "code",
   "execution_count": null,
   "metadata": {},
   "outputs": [],
   "source": []
  }
 ],
 "metadata": {
  "kernelspec": {
   "display_name": "Python 3",
   "language": "python",
   "name": "python3"
  },
  "language_info": {
   "codemirror_mode": {
    "name": "ipython",
    "version": 3
   },
   "file_extension": ".py",
   "mimetype": "text/x-python",
   "name": "python",
   "nbconvert_exporter": "python",
   "pygments_lexer": "ipython3",
   "version": "3.7.3"
  }
 },
 "nbformat": 4,
 "nbformat_minor": 2
}
